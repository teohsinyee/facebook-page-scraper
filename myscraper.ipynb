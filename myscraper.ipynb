{
  "cells": [
    {
      "cell_type": "code",
      "execution_count": null,
      "metadata": {
        "colab": {
          "base_uri": "https://localhost:8080/"
        },
        "id": "1RP_uXCnSOTQ",
        "outputId": "12fb3035-5807-426e-d2cb-ac18ab6544c7"
      },
      "outputs": [],
      "source": [
        "import time\n",
        "pip install facebook-scraper"
      ]
    },
    {
      "cell_type": "code",
      "execution_count": null,
      "metadata": {
        "id": "Ec44otB2OQ5Z"
      },
      "outputs": [],
      "source": [
        "from facebook_scraper import get_posts\n",
        "import pandas as pd"
      ]
    },
    {
      "cell_type": "code",
      "execution_count": null,
      "metadata": {
        "colab": {
          "base_uri": "https://localhost:8080/"
        },
        "id": "dV1j0_kKUI5A",
        "outputId": "27bcf3c6-7e00-4b90-9bf7-ee07ee3d0cd6"
      },
      "outputs": [],
      "source": [
        "for post in get_posts('ustazahasmaharun',cookies='cookies.txt',extra_info=True,pages=5):\n",
        "  post_entry = post\n",
        "  fb_post_df = pd.DataFrame.from_dict(post_entry, orient='index')\n",
        "  fb_post_df = fb_post_df.transpose()\n",
        "  post_df_full = pd.DataFrame()\n",
        "  #post_df_full = post_df_full.append(fb_post_df)\n",
        "  post_df_full.append(fb_post_df)\n",
        "  print(post['post_id']+' get')"
      ]
    },
    {
      "cell_type": "code",
      "execution_count": null,
      "metadata": {
        "colab": {
          "base_uri": "https://localhost:8080/",
          "height": 261
        },
        "id": "mBzX-G68VHia",
        "outputId": "466313f7-92ae-464d-f81c-81fa66cd7aaf"
      },
      "outputs": [],
      "source": [
        "post_df_full.info()"
      ]
    },
    {
      "cell_type": "code",
      "execution_count": null,
      "metadata": {
        "id": "vEqckvSFzWtq"
      },
      "outputs": [],
      "source": [
        "df_ori = pd.DataFrame(columns = ['post_id', 'text', 'time',\n",
        "       'video', 'video_duration_seconds','comments',\n",
        "       'shares', 'post_url', 'link', \n",
        "       'is_live', 'factcheck', 'w3_fb_url', 'reactions', 'reaction_count',\n",
        "       'fetched_time'])"
      ]
    },
    {
      "cell_type": "code",
      "execution_count": null,
      "metadata": {},
      "outputs": [],
      "source": [
        "time.sleep(0.5)\n",
        "for post in get_posts('ustazahasmaharun', pages=100, extra_info=True):\n",
        "    dataframe = post\n",
        "    df = pd.DataFrame.from_dict(dataframe, orient='index')\n",
        "    df = df.transpose()\n",
        "    df_ori = df_ori.append(df)"
      ]
    },
    {
      "cell_type": "code",
      "execution_count": null,
      "metadata": {},
      "outputs": [],
      "source": [
        "df_ori.to_csv(r'Scrapped_FB_4.csv', index = False)"
      ]
    },
    {
      "cell_type": "code",
      "execution_count": null,
      "metadata": {},
      "outputs": [],
      "source": []
    }
  ],
  "metadata": {
    "colab": {
      "name": "Untitled0.ipynb",
      "provenance": []
    },
    "kernelspec": {
      "display_name": "Python 3",
      "name": "python3"
    },
    "language_info": {
      "codemirror_mode": {
        "name": "ipython",
        "version": 3
      },
      "file_extension": ".py",
      "mimetype": "text/x-python",
      "name": "python",
      "nbconvert_exporter": "python",
      "pygments_lexer": "ipython3",
      "version": "3.8.5"
    }
  },
  "nbformat": 4,
  "nbformat_minor": 0
}
