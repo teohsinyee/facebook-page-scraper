{
  "cells": [
    {
      "cell_type": "code",
      "execution_count": null,
      "metadata": {
        "colab": {
          "base_uri": "https://localhost:8080/"
        },
        "id": "1RP_uXCnSOTQ",
        "outputId": "12fb3035-5807-426e-d2cb-ac18ab6544c7"
      },
      "outputs": [],
      "source": [
        "pip install facebook-scraper"
      ]
    },
    {
      "cell_type": "code",
      "execution_count": 4,
      "metadata": {
        "id": "Ec44otB2OQ5Z"
      },
      "outputs": [],
      "source": [
        "from facebook_scraper import get_posts\n",
        "import pandas as pd"
      ]
    },
    {
      "cell_type": "code",
      "execution_count": 8,
      "metadata": {
        "colab": {
          "base_uri": "https://localhost:8080/"
        },
        "id": "dV1j0_kKUI5A",
        "outputId": "27bcf3c6-7e00-4b90-9bf7-ee07ee3d0cd6"
      },
      "outputs": [
        {
          "name": "stderr",
          "output_type": "stream",
          "text": [
            "c:\\Users\\USER\\AppData\\Local\\Programs\\Python\\Python38\\venv\\lib\\site-packages\\facebook_scraper\\facebook_scraper.py:817: UserWarning: Facebook says 'Unsupported Browser'\n",
            "  warnings.warn(f\"Facebook says 'Unsupported Browser'\")\n"
          ]
        },
        {
          "name": "stdout",
          "output_type": "stream",
          "text": [
            "3256408687974327 get\n",
            "1092645457966496 get\n",
            "5074757269252343 get\n",
            "3255629048052291 get\n"
          ]
        },
        {
          "name": "stderr",
          "output_type": "stream",
          "text": [
            "c:\\Users\\USER\\AppData\\Local\\Programs\\Python\\Python38\\venv\\lib\\site-packages\\dateparser\\date_parser.py:35: PytzUsageWarning: The localize method is no longer necessary, as this time zone supports the fold attribute (PEP 495). For more details on migrating to a PEP 495-compliant implementation, see https://pytz-deprecation-shim.readthedocs.io/en/latest/migration.html\n",
            "  date_obj = stz.localize(date_obj)\n"
          ]
        },
        {
          "name": "stdout",
          "output_type": "stream",
          "text": [
            "374210177885164 get\n",
            "3255229598092236 get\n",
            "1003955057173364 get\n",
            "3254875298127666 get\n",
            "3254817011466828 get\n",
            "347392007288464 get\n",
            "4811175398978371 get\n",
            "3254466484835214 get\n",
            "3254429608172235 get\n",
            "3254326584849204 get\n",
            "1580921742273104 get\n",
            "3254156611532868 get\n",
            "3254061681542361 get\n"
          ]
        }
      ],
      "source": [
        "for post in get_posts('ustazahasmaharun',cookies='cookies.txt',extra_info=True,pages=5):\n",
        "  post_entry = post\n",
        "  fb_post_df = pd.DataFrame.from_dict(post_entry, orient='index')\n",
        "  fb_post_df = fb_post_df.transpose()\n",
        "  post_df_full = pd.DataFrame()\n",
        "  #post_df_full = post_df_full.append(fb_post_df)\n",
        "  post_df_full.append(fb_post_df)\n",
        "  print(post['post_id']+' get')"
      ]
    },
    {
      "cell_type": "code",
      "execution_count": 9,
      "metadata": {
        "colab": {
          "base_uri": "https://localhost:8080/",
          "height": 261
        },
        "id": "mBzX-G68VHia",
        "outputId": "466313f7-92ae-464d-f81c-81fa66cd7aaf"
      },
      "outputs": [
        {
          "name": "stdout",
          "output_type": "stream",
          "text": [
            "<class 'pandas.core.frame.DataFrame'>\n",
            "Index: 0 entries\n",
            "Empty DataFrame"
          ]
        }
      ],
      "source": [
        "post_df_full.info()"
      ]
    },
    {
      "cell_type": "code",
      "execution_count": 14,
      "metadata": {
        "id": "vEqckvSFzWtq"
      },
      "outputs": [],
      "source": [
        "df_ori = pd.DataFrame(columns = ['post_id', 'text', 'post_text', 'shared_text', 'time', 'image',\n",
        "       'image_lowquality', 'images', 'images_description', 'images_lowquality',\n",
        "       'images_lowquality_description', 'video', 'video_duration_seconds',\n",
        "       'video_height', 'video_id', 'video_quality', 'video_size_MB',\n",
        "       'video_thumbnail', 'video_watches', 'video_width', 'likes', 'comments',\n",
        "       'shares', 'post_url', 'link', 'user_id', 'username', 'user_url',\n",
        "       'is_live', 'factcheck', 'shared_post_id', 'shared_time',\n",
        "       'shared_user_id', 'shared_username', 'shared_post_url', 'available',\n",
        "       'comments_full', 'reactors', 'w3_fb_url', 'reactions', 'reaction_count',\n",
        "       'image_id', 'image_ids', 'fetched_time'])"
      ]
    },
    {
      "cell_type": "code",
      "execution_count": 17,
      "metadata": {},
      "outputs": [],
      "source": [
        "for post in get_posts('ustazahasmaharun', pages=20, extra_info=True):\n",
        "    dataframe = post\n",
        "    df = pd.DataFrame.from_dict(dataframe, orient='index')\n",
        "    df = df.transpose()\n",
        "    df_ori = df_ori.append(df)"
      ]
    },
    {
      "cell_type": "code",
      "execution_count": 18,
      "metadata": {},
      "outputs": [],
      "source": [
        "df_ori.to_csv(r'Scrapped_FB_2.csv', index = False)"
      ]
    },
    {
      "cell_type": "code",
      "execution_count": null,
      "metadata": {},
      "outputs": [],
      "source": []
    }
  ],
  "metadata": {
    "colab": {
      "name": "Untitled0.ipynb",
      "provenance": []
    },
    "kernelspec": {
      "display_name": "Python 3",
      "name": "python3"
    },
    "language_info": {
      "codemirror_mode": {
        "name": "ipython",
        "version": 3
      },
      "file_extension": ".py",
      "mimetype": "text/x-python",
      "name": "python",
      "nbconvert_exporter": "python",
      "pygments_lexer": "ipython3",
      "version": "3.8.5"
    }
  },
  "nbformat": 4,
  "nbformat_minor": 0
}
